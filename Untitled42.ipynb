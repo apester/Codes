{
  "nbformat": 4,
  "nbformat_minor": 0,
  "metadata": {
    "colab": {
      "private_outputs": true,
      "provenance": [],
      "authorship_tag": "ABX9TyNnze6SE/j/jMhSq5qymBG2",
      "include_colab_link": true
    },
    "kernelspec": {
      "name": "python3",
      "display_name": "Python 3"
    },
    "language_info": {
      "name": "python"
    }
  },
  "cells": [
    {
      "cell_type": "markdown",
      "metadata": {
        "id": "view-in-github",
        "colab_type": "text"
      },
      "source": [
        "<a href=\"https://colab.research.google.com/github/apester/Codes/blob/main/Untitled42.ipynb\" target=\"_parent\"><img src=\"https://colab.research.google.com/assets/colab-badge.svg\" alt=\"Open In Colab\"/></a>"
      ]
    },
    {
      "cell_type": "code",
      "execution_count": null,
      "metadata": {
        "id": "P2rdpbUlzKUH"
      },
      "outputs": [],
      "source": [
        "# Re-importing necessary libraries\n",
        "import numpy as np\n",
        "import matplotlib.pyplot as plt\n",
        "from mpl_toolkits.mplot3d import Axes3D\n",
        "\n",
        "# Define the function f(x, y) and its gradient\n",
        "def f(x, y):\n",
        "    return x**2 - y**2\n",
        "\n",
        "def gradient(x, y):\n",
        "    df_dx = 2 * x\n",
        "    df_dy = -2 * y\n",
        "    return np.array([df_dx, df_dy])\n",
        "\n",
        "# Create a grid of x, y values\n",
        "x_vals = np.linspace(-2, 2, 100)\n",
        "y_vals = np.linspace(-2, 2, 100)\n",
        "X, Y = np.meshgrid(x_vals, y_vals)\n",
        "Z = f(X, Y)\n",
        "\n",
        "# Define the point (-1, 1) and calculate the normed gradient at this point\n",
        "point = np.array([1, 0.5])\n",
        "grad = gradient(*point)\n",
        "normed_grad = grad / np.linalg.norm(grad)\n",
        "\n",
        "# Plot the surface with contour lines and the normed gradient vector\n",
        "fig = plt.figure(figsize=(12, 8))\n",
        "ax = fig.add_subplot(111, projection='3d')\n",
        "\n",
        "# Surface plot\n",
        "ax.plot_surface(X, Y, Z, cmap='viridis', alpha=0.7, edgecolor='none')\n",
        "\n",
        "# Contour lines on the X-Y plane\n",
        "ax.contour(X, Y, Z, zdir='z', offset=-4, cmap='viridis', linestyles=\"solid\")\n",
        "\n",
        "# Plot the normed gradient vector at the point (-1, 1) in red\n",
        "#ax.plot(point[0],  point[1], zs=0, zdir='z', label='curve in (x,y)', color='red')\n",
        "#ax.quiver(point[0], point[1],0, normed_grad[0], normed_grad[1],0, color='red', length=1, linewidth=2)\n",
        "ax.quiver(point[0], point[1], -4, normed_grad[0], normed_grad[1], 0, color='blue', length=1, linewidth=2)\n",
        "\n",
        "\n",
        "\n",
        "# Label the axes\n",
        "ax.set_xlabel('X')\n",
        "ax.set_ylabel('Y')\n",
        "ax.set_zlabel('f(x, y) = x^2 - y^2')\n",
        "ax.set_title(\"Surface of f(x, y) = x^2 - y^2 with Contour Lines and Normed Gradient at (1, 0.5)\")\n",
        "\n",
        "plt.show()\n"
      ]
    }
  ]
}